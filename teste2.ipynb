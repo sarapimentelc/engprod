{
 "cells": [
  {
   "cell_type": "code",
   "execution_count": 3,
   "id": "f2297f70",
   "metadata": {},
   "outputs": [
    {
     "name": "stdout",
     "output_type": "stream",
     "text": [
      "Versão da Linguagem Python Usada Neste Jupyter Notebook: 3.9.7\n"
     ]
    }
   ],
   "source": [
    "# Versão da Linguagem Python.\n",
    "from platform import python_version\n",
    "print('Versão da Linguagem Python Usada Neste Jupyter Notebook:', python_version())"
   ]
  },
  {
   "cell_type": "code",
   "execution_count": 4,
   "id": "8d201e96",
   "metadata": {},
   "outputs": [],
   "source": [
    "# Importando a biblioteca Pandas.\n",
    "import pandas as pd"
   ]
  },
  {
   "cell_type": "code",
   "execution_count": 5,
   "id": "d4d9b183",
   "metadata": {},
   "outputs": [],
   "source": [
    "# Carregando o conjunto de dados.\n",
    "df = pd.read_excel('C:/Users/sarap/Downloads/camelo2.xlsx')"
   ]
  },
  {
   "cell_type": "code",
   "execution_count": 6,
   "id": "5c233dfb",
   "metadata": {},
   "outputs": [
    {
     "data": {
      "text/html": [
       "<div>\n",
       "<style scoped>\n",
       "    .dataframe tbody tr th:only-of-type {\n",
       "        vertical-align: middle;\n",
       "    }\n",
       "\n",
       "    .dataframe tbody tr th {\n",
       "        vertical-align: top;\n",
       "    }\n",
       "\n",
       "    .dataframe thead th {\n",
       "        text-align: right;\n",
       "    }\n",
       "</style>\n",
       "<table border=\"1\" class=\"dataframe\">\n",
       "  <thead>\n",
       "    <tr style=\"text-align: right;\">\n",
       "      <th></th>\n",
       "      <th>ID</th>\n",
       "      <th>LIMIT_BAL</th>\n",
       "      <th>SEX</th>\n",
       "      <th>EDUCATION</th>\n",
       "      <th>MARRIAGE</th>\n",
       "      <th>AGE</th>\n",
       "      <th>PAY_0</th>\n",
       "      <th>PAY_2</th>\n",
       "      <th>PAY_3</th>\n",
       "      <th>PAY_4</th>\n",
       "      <th>...</th>\n",
       "      <th>BILL_AMT4</th>\n",
       "      <th>BILL_AMT5</th>\n",
       "      <th>BILL_AMT6</th>\n",
       "      <th>PAY_AMT1</th>\n",
       "      <th>PAY_AMT2</th>\n",
       "      <th>PAY_AMT3</th>\n",
       "      <th>PAY_AMT4</th>\n",
       "      <th>PAY_AMT5</th>\n",
       "      <th>PAY_AMT6</th>\n",
       "      <th>default payment next month</th>\n",
       "    </tr>\n",
       "  </thead>\n",
       "  <tbody>\n",
       "    <tr>\n",
       "      <th>0</th>\n",
       "      <td>1.0</td>\n",
       "      <td>NaN</td>\n",
       "      <td>2.0</td>\n",
       "      <td>2.0</td>\n",
       "      <td>1.0</td>\n",
       "      <td>42.0</td>\n",
       "      <td>1.0</td>\n",
       "      <td>-1.0</td>\n",
       "      <td>-1.0</td>\n",
       "      <td>-1.0</td>\n",
       "      <td>...</td>\n",
       "      <td>590.0</td>\n",
       "      <td>590.0</td>\n",
       "      <td>590.0</td>\n",
       "      <td>0.0</td>\n",
       "      <td>590.0</td>\n",
       "      <td>315.0</td>\n",
       "      <td>590.0</td>\n",
       "      <td>590.0</td>\n",
       "      <td>0.0</td>\n",
       "      <td>0.0</td>\n",
       "    </tr>\n",
       "    <tr>\n",
       "      <th>1</th>\n",
       "      <td>2.0</td>\n",
       "      <td>NaN</td>\n",
       "      <td>2.0</td>\n",
       "      <td>2.0</td>\n",
       "      <td>2.0</td>\n",
       "      <td>44.0</td>\n",
       "      <td>3.0</td>\n",
       "      <td>4.0</td>\n",
       "      <td>-1.0</td>\n",
       "      <td>5.0</td>\n",
       "      <td>...</td>\n",
       "      <td>550.0</td>\n",
       "      <td>550.0</td>\n",
       "      <td>550.0</td>\n",
       "      <td>0.0</td>\n",
       "      <td>0.0</td>\n",
       "      <td>295.0</td>\n",
       "      <td>0.0</td>\n",
       "      <td>0.0</td>\n",
       "      <td>0.0</td>\n",
       "      <td>1.0</td>\n",
       "    </tr>\n",
       "    <tr>\n",
       "      <th>2</th>\n",
       "      <td>3.0</td>\n",
       "      <td>NaN</td>\n",
       "      <td>2.0</td>\n",
       "      <td>2.0</td>\n",
       "      <td>2.0</td>\n",
       "      <td>40.0</td>\n",
       "      <td>5.0</td>\n",
       "      <td>1.0</td>\n",
       "      <td>3.0</td>\n",
       "      <td>3.0</td>\n",
       "      <td>...</td>\n",
       "      <td>1100.0</td>\n",
       "      <td>1100.0</td>\n",
       "      <td>1100.0</td>\n",
       "      <td>0.0</td>\n",
       "      <td>0.0</td>\n",
       "      <td>0.0</td>\n",
       "      <td>0.0</td>\n",
       "      <td>0.0</td>\n",
       "      <td>0.0</td>\n",
       "      <td>1.0</td>\n",
       "    </tr>\n",
       "    <tr>\n",
       "      <th>3</th>\n",
       "      <td>4.0</td>\n",
       "      <td>NaN</td>\n",
       "      <td>2.0</td>\n",
       "      <td>2.0</td>\n",
       "      <td>1.0</td>\n",
       "      <td>36.0</td>\n",
       "      <td>-1.0</td>\n",
       "      <td>2.0</td>\n",
       "      <td>3.0</td>\n",
       "      <td>-1.0</td>\n",
       "      <td>...</td>\n",
       "      <td>1140.0</td>\n",
       "      <td>1140.0</td>\n",
       "      <td>1140.0</td>\n",
       "      <td>1140.0</td>\n",
       "      <td>0.0</td>\n",
       "      <td>0.0</td>\n",
       "      <td>1140.0</td>\n",
       "      <td>1140.0</td>\n",
       "      <td>1140.0</td>\n",
       "      <td>0.0</td>\n",
       "    </tr>\n",
       "    <tr>\n",
       "      <th>4</th>\n",
       "      <td>5.0</td>\n",
       "      <td>NaN</td>\n",
       "      <td>1.0</td>\n",
       "      <td>2.0</td>\n",
       "      <td>1.0</td>\n",
       "      <td>49.0</td>\n",
       "      <td>-1.0</td>\n",
       "      <td>-1.0</td>\n",
       "      <td>2.0</td>\n",
       "      <td>-1.0</td>\n",
       "      <td>...</td>\n",
       "      <td>550.0</td>\n",
       "      <td>550.0</td>\n",
       "      <td>550.0</td>\n",
       "      <td>550.0</td>\n",
       "      <td>550.0</td>\n",
       "      <td>0.0</td>\n",
       "      <td>550.0</td>\n",
       "      <td>550.0</td>\n",
       "      <td>550.0</td>\n",
       "      <td>0.0</td>\n",
       "    </tr>\n",
       "  </tbody>\n",
       "</table>\n",
       "<p>5 rows × 25 columns</p>\n",
       "</div>"
      ],
      "text/plain": [
       "    ID  LIMIT_BAL  SEX  EDUCATION  MARRIAGE   AGE  PAY_0  PAY_2  PAY_3  PAY_4  \\\n",
       "0  1.0        NaN  2.0        2.0       1.0  42.0    1.0   -1.0   -1.0   -1.0   \n",
       "1  2.0        NaN  2.0        2.0       2.0  44.0    3.0    4.0   -1.0    5.0   \n",
       "2  3.0        NaN  2.0        2.0       2.0  40.0    5.0    1.0    3.0    3.0   \n",
       "3  4.0        NaN  2.0        2.0       1.0  36.0   -1.0    2.0    3.0   -1.0   \n",
       "4  5.0        NaN  1.0        2.0       1.0  49.0   -1.0   -1.0    2.0   -1.0   \n",
       "\n",
       "   ...  BILL_AMT4  BILL_AMT5  BILL_AMT6  PAY_AMT1  PAY_AMT2  PAY_AMT3  \\\n",
       "0  ...      590.0      590.0      590.0       0.0     590.0     315.0   \n",
       "1  ...      550.0      550.0      550.0       0.0       0.0     295.0   \n",
       "2  ...     1100.0     1100.0     1100.0       0.0       0.0       0.0   \n",
       "3  ...     1140.0     1140.0     1140.0    1140.0       0.0       0.0   \n",
       "4  ...      550.0      550.0      550.0     550.0     550.0       0.0   \n",
       "\n",
       "   PAY_AMT4  PAY_AMT5  PAY_AMT6  default payment next month  \n",
       "0     590.0     590.0       0.0                         0.0  \n",
       "1       0.0       0.0       0.0                         1.0  \n",
       "2       0.0       0.0       0.0                         1.0  \n",
       "3    1140.0    1140.0    1140.0                         0.0  \n",
       "4     550.0     550.0     550.0                         0.0  \n",
       "\n",
       "[5 rows x 25 columns]"
      ]
     },
     "execution_count": 6,
     "metadata": {},
     "output_type": "execute_result"
    }
   ],
   "source": [
    "# Visualizando o DataFrame.\n",
    "df.head()"
   ]
  },
  {
   "cell_type": "code",
   "execution_count": 11,
   "id": "9bafc478",
   "metadata": {},
   "outputs": [
    {
     "ename": "ModuleNotFoundError",
     "evalue": "No module named 'xgboost'",
     "output_type": "error",
     "traceback": [
      "\u001b[1;31m---------------------------------------------------------------------------\u001b[0m",
      "\u001b[1;31mModuleNotFoundError\u001b[0m                       Traceback (most recent call last)",
      "\u001b[1;32m~\\AppData\\Local\\Temp/ipykernel_19028/356436965.py\u001b[0m in \u001b[0;36m<module>\u001b[1;34m\u001b[0m\n\u001b[0;32m     14\u001b[0m \u001b[1;32mfrom\u001b[0m \u001b[0msklearn\u001b[0m\u001b[1;33m.\u001b[0m\u001b[0mtree\u001b[0m \u001b[1;32mimport\u001b[0m \u001b[0mDecisionTreeClassifier\u001b[0m\u001b[1;33m\u001b[0m\u001b[1;33m\u001b[0m\u001b[0m\n\u001b[0;32m     15\u001b[0m \u001b[1;32mfrom\u001b[0m \u001b[0msklearn\u001b[0m\u001b[1;33m.\u001b[0m\u001b[0mensemble\u001b[0m \u001b[1;32mimport\u001b[0m \u001b[0mRandomForestClassifier\u001b[0m\u001b[1;33m\u001b[0m\u001b[1;33m\u001b[0m\u001b[0m\n\u001b[1;32m---> 16\u001b[1;33m \u001b[1;32mfrom\u001b[0m \u001b[0mxgboost\u001b[0m \u001b[1;32mimport\u001b[0m \u001b[0mXGBClassifier\u001b[0m\u001b[1;33m\u001b[0m\u001b[1;33m\u001b[0m\u001b[0m\n\u001b[0m\u001b[0;32m     17\u001b[0m \u001b[1;33m\u001b[0m\u001b[0m\n\u001b[0;32m     18\u001b[0m \u001b[1;31m# Importando a classe para balanceamento dos dados.\u001b[0m\u001b[1;33m\u001b[0m\u001b[1;33m\u001b[0m\u001b[0m\n",
      "\u001b[1;31mModuleNotFoundError\u001b[0m: No module named 'xgboost'"
     ]
    }
   ],
   "source": [
    "# Importando as biblioteca para plotagens gráficas.\n",
    "import seaborn as sns\n",
    "import matplotlib as mpl\n",
    "import matplotlib.pyplot as plt\n",
    "from matplotlib.pyplot import figure\n",
    "%matplotlib inline\n",
    "\n",
    "# Importando o Numpy.\n",
    "import numpy as np\n",
    "\n",
    "# Importando as classes dos algoritmos usados.\n",
    "from sklearn.linear_model import LogisticRegression\n",
    "from sklearn.discriminant_analysis import LinearDiscriminantAnalysis\n",
    "from sklearn.tree import DecisionTreeClassifier\n",
    "from sklearn.ensemble import RandomForestClassifier\n",
    "from xgboost import XGBClassifier\n",
    "\n",
    "# Importando a classe para balanceamento dos dados.\n",
    "from imblearn.over_sampling import SMOTE\n",
    "\n",
    "# Importando a classe para normalização dos dados.\n",
    "from sklearn.preprocessing import MinMaxScaler\n",
    "\n",
    "# Importando a classe para criação do Pipeline.\n",
    "from sklearn.pipeline import Pipeline\n",
    "\n",
    "# Importando as classes para avaliação do desempenho dos modelos.\n",
    "from sklearn.metrics import accuracy_score, classification_report, confusion_matrix, mean_squared_error, plot_roc_curve\n",
    "\n",
    "# Importando a classe da validação cruzada.\n",
    "from sklearn.model_selection import cross_validate, StratifiedKFold\n",
    "\n",
    "# Importando a classe para detectar os melhores hiperparâmetros.\n",
    "from sklearn.model_selection import RandomizedSearchCV\n",
    "\n",
    "# Importando a classe para divisão dos dados em treino/teste.\n",
    "from sklearn.model_selection import train_test_split\n",
    "\n",
    "# Importando a classe para detecção de multicolinearidade.\n",
    "from statsmodels.stats.outliers_influence import variance_inflation_factor\n",
    "\n",
    "# Importando a classe para realizar o Teste FANOVA.\n",
    "from sklearn.feature_selection import f_classif"
   ]
  },
  {
   "cell_type": "code",
   "execution_count": 12,
   "id": "e0a42e15",
   "metadata": {},
   "outputs": [],
   "source": [
    "# Criando um novo DataFrame contendo valores booleanos.\n",
    "df_zero_mask = df == 0"
   ]
  },
  {
   "cell_type": "code",
   "execution_count": 14,
   "id": "a1743fb4",
   "metadata": {},
   "outputs": [],
   "source": [
    "# Criando uma série booleana.\n",
    "freature_zero_mask = df_zero_mask.iloc[:,1:].all(axis=1)"
   ]
  },
  {
   "cell_type": "code",
   "execution_count": 15,
   "id": "c444ef4f",
   "metadata": {},
   "outputs": [
    {
     "data": {
      "text/plain": [
       "0"
      ]
     },
     "execution_count": 15,
     "metadata": {},
     "output_type": "execute_result"
    }
   ],
   "source": [
    "# Calculando a soma da série booleana.\n",
    "sum(freature_zero_mask)"
   ]
  },
  {
   "cell_type": "code",
   "execution_count": 16,
   "id": "235ee89c",
   "metadata": {},
   "outputs": [],
   "source": [
    "# Novo DataFrame apenas com dados válidos.\n",
    "df_clean_1 = df.loc[~freature_zero_mask,:].copy()"
   ]
  },
  {
   "cell_type": "code",
   "execution_count": 21,
   "id": "24dea390",
   "metadata": {},
   "outputs": [
    {
     "data": {
      "text/plain": [
       "2.0    16\n",
       "1.0     9\n",
       "Name: SEX, dtype: int64"
      ]
     },
     "execution_count": 21,
     "metadata": {},
     "output_type": "execute_result"
    }
   ],
   "source": [
    "# Contagens de valores da variável \"SEX\".\n",
    "df_clean_1['SEX'].value_counts()"
   ]
  },
  {
   "cell_type": "code",
   "execution_count": 22,
   "id": "234b3872",
   "metadata": {},
   "outputs": [
    {
     "data": {
      "image/png": "[encoded data removed]",
      "text/plain": [
       "<Figure size 576x360 with 1 Axes>"
      ]
     },
     "metadata": {
      "needs_background": "light"
     },
     "output_type": "display_data"
    }
   ],
   "source": [
    "# Porcentagem por gênero.\n",
    "sex_cnt = (df_clean_1['SEX'].value_counts(normalize=True)*100)\n",
    "sex_cnt.plot.bar(figsize=(8,5))\n",
    "plt.xticks(fontsize=12, rotation=0)\n",
    "plt.yticks(fontsize=12)\n",
    "plt.title(\"% Gênero dos Clientes\", fontsize=15);"
   ]
  },
  {
   "cell_type": "code",
   "execution_count": 23,
   "id": "34a778cc",
   "metadata": {},
   "outputs": [
    {
     "data": {
      "text/plain": [
       "2.0    10\n",
       "1.0    10\n",
       "3.0     5\n",
       "Name: EDUCATION, dtype: int64"
      ]
     },
     "execution_count": 23,
     "metadata": {},
     "output_type": "execute_result"
    }
   ],
   "source": [
    "# Contagem de valores da coluna \"EDUCATION\".\n",
    "df_clean_1['EDUCATION'].value_counts()"
   ]
  },
  {
   "cell_type": "code",
   "execution_count": 40,
   "id": "c7aef62e",
   "metadata": {},
   "outputs": [
    {
     "data": {
      "image/png": "[encoded data removed]",
      "text/plain": [
       "<Figure size 576x360 with 1 Axes>"
      ]
     },
     "metadata": {
      "needs_background": "light"
     },
     "output_type": "display_data"
    }
   ],
   "source": [
    "# Visualização da variável \"EDUCATION\".\n",
    "fig, ax = plt.subplots(figsize=(8,5))\n",
    "df_clean_1['EDUCATION'].replace({1:'Ensino Fundamental', 2:'Universidade', \n",
    "                                 3:'Ensino Médio', 4:'Outros'}).value_counts().plot(kind='bar')\n",
    "plt.xticks(rotation=45)\n",
    "plt.title(\"Grau de Instrução Educacional dos Clientes\", fontsize=15);\n",
    "plt.show()"
   ]
  },
  {
   "cell_type": "code",
   "execution_count": 26,
   "id": "a50b63c0",
   "metadata": {},
   "outputs": [
    {
     "data": {
      "text/plain": [
       "2.0    15\n",
       "1.0     9\n",
       "3.0     1\n",
       "Name: MARRIAGE, dtype: int64"
      ]
     },
     "execution_count": 26,
     "metadata": {},
     "output_type": "execute_result"
    }
   ],
   "source": [
    "# Contagem de valores da coluna \"MARRIAGE\".\n",
    "df_clean_1['MARRIAGE'].value_counts()"
   ]
  },
  {
   "cell_type": "code",
   "execution_count": 41,
   "id": "621d262b",
   "metadata": {},
   "outputs": [
    {
     "data": {
      "image/png": "[encoded data removed]",
      "text/plain": [
       "<Figure size 576x360 with 1 Axes>"
      ]
     },
     "metadata": {
      "needs_background": "light"
     },
     "output_type": "display_data"
    }
   ],
   "source": [
    "# Visualização da variável \"MARRIAGE\".\n",
    "fig, ax = plt.subplots(figsize=(8,5))\n",
    "df_clean_1['MARRIAGE'].replace({1:'Solteiro', 2:'Casado', \n",
    "                                 3:'Divorciado'}).value_counts().plot(kind='bar')\n",
    "plt.xticks(rotation=45)\n",
    "plt.title(\"Estado Civil dos Clientes\", fontsize=15);\n",
    "plt.show()"
   ]
  },
  {
   "cell_type": "code",
   "execution_count": 29,
   "id": "b73aeae9",
   "metadata": {},
   "outputs": [
    {
     "data": {
      "image/png": "[encoded data removed]",
      "text/plain": [
       "<Figure size 576x360 with 1 Axes>"
      ]
     },
     "metadata": {
      "needs_background": "light"
     },
     "output_type": "display_data"
    }
   ],
   "source": [
    "# Histograma da variável \"LIMIT_BAL\".\n",
    "df_clean_1[['AGE']].hist(figsize=(8,5))\n",
    "plt.title('Distribuição de Idade dos Clientes', fontsize=15);"
   ]
  },
  {
   "cell_type": "code",
   "execution_count": 30,
   "id": "7521b091",
   "metadata": {},
   "outputs": [
    {
     "data": {
      "text/html": [
       "<div>\n",
       "<style scoped>\n",
       "    .dataframe tbody tr th:only-of-type {\n",
       "        vertical-align: middle;\n",
       "    }\n",
       "\n",
       "    .dataframe tbody tr th {\n",
       "        vertical-align: top;\n",
       "    }\n",
       "\n",
       "    .dataframe thead th {\n",
       "        text-align: right;\n",
       "    }\n",
       "</style>\n",
       "<table border=\"1\" class=\"dataframe\">\n",
       "  <thead>\n",
       "    <tr style=\"text-align: right;\">\n",
       "      <th></th>\n",
       "      <th>AGE</th>\n",
       "    </tr>\n",
       "  </thead>\n",
       "  <tbody>\n",
       "    <tr>\n",
       "      <th>count</th>\n",
       "      <td>25.000000</td>\n",
       "    </tr>\n",
       "    <tr>\n",
       "      <th>mean</th>\n",
       "      <td>44.400000</td>\n",
       "    </tr>\n",
       "    <tr>\n",
       "      <th>std</th>\n",
       "      <td>7.494442</td>\n",
       "    </tr>\n",
       "    <tr>\n",
       "      <th>min</th>\n",
       "      <td>30.000000</td>\n",
       "    </tr>\n",
       "    <tr>\n",
       "      <th>25%</th>\n",
       "      <td>38.000000</td>\n",
       "    </tr>\n",
       "    <tr>\n",
       "      <th>50%</th>\n",
       "      <td>46.000000</td>\n",
       "    </tr>\n",
       "    <tr>\n",
       "      <th>75%</th>\n",
       "      <td>49.000000</td>\n",
       "    </tr>\n",
       "    <tr>\n",
       "      <th>max</th>\n",
       "      <td>58.000000</td>\n",
       "    </tr>\n",
       "  </tbody>\n",
       "</table>\n",
       "</div>"
      ],
      "text/plain": [
       "             AGE\n",
       "count  25.000000\n",
       "mean   44.400000\n",
       "std     7.494442\n",
       "min    30.000000\n",
       "25%    38.000000\n",
       "50%    46.000000\n",
       "75%    49.000000\n",
       "max    58.000000"
      ]
     },
     "execution_count": 30,
     "metadata": {},
     "output_type": "execute_result"
    }
   ],
   "source": [
    "# Informações estatísticas da variável.\n",
    "df_clean_1[['AGE']].describe()"
   ]
  },
  {
   "cell_type": "code",
   "execution_count": 31,
   "id": "41e02a1a",
   "metadata": {},
   "outputs": [
    {
     "name": "stdout",
     "output_type": "stream",
     "text": [
      "<class 'pandas.core.frame.DataFrame'>\n",
      "Int64Index: 25 entries, 0 to 24\n",
      "Data columns (total 1 columns):\n",
      " #   Column  Non-Null Count  Dtype  \n",
      "---  ------  --------------  -----  \n",
      " 0   PAY_0   25 non-null     float64\n",
      "dtypes: float64(1)\n",
      "memory usage: 400.0 bytes\n"
     ]
    }
   ],
   "source": [
    "# Obtendo informações da variável.\n",
    "df_clean_1[['PAY_0']].info()"
   ]
  },
  {
   "cell_type": "code",
   "execution_count": 32,
   "id": "8e8d6117",
   "metadata": {},
   "outputs": [
    {
     "data": {
      "text/plain": [
       "-1.0    13\n",
       " 1.0     3\n",
       " 3.0     3\n",
       " 2.0     3\n",
       " 6.0     2\n",
       " 5.0     1\n",
       "Name: PAY_0, dtype: int64"
      ]
     },
     "execution_count": 32,
     "metadata": {},
     "output_type": "execute_result"
    }
   ],
   "source": [
    "# Contagem de valores da \"PAY_0.\n",
    "df_clean_1['PAY_0'].value_counts()"
   ]
  },
  {
   "cell_type": "code",
   "execution_count": 33,
   "id": "45e9615a",
   "metadata": {},
   "outputs": [
    {
     "data": {
      "text/plain": [
       "0    True\n",
       "1    True\n",
       "2    True\n",
       "3    True\n",
       "4    True\n",
       "Name: PAY_0, dtype: bool"
      ]
     },
     "execution_count": 33,
     "metadata": {},
     "output_type": "execute_result"
    }
   ],
   "source": [
    "# Criando uma máscara booleana com os valores diferentes de \"Not available\".\n",
    "valid_pay_1_mask = df_clean_1['PAY_0'] != 'Not available'\n",
    "valid_pay_1_mask[0:5]"
   ]
  },
  {
   "cell_type": "code",
   "execution_count": 34,
   "id": "3380dac9",
   "metadata": {},
   "outputs": [
    {
     "data": {
      "text/plain": [
       "25"
      ]
     },
     "execution_count": 34,
     "metadata": {},
     "output_type": "execute_result"
    }
   ],
   "source": [
    "# Calculando a soma da máscara.\n",
    "sum(valid_pay_1_mask)"
   ]
  },
  {
   "cell_type": "code",
   "execution_count": 35,
   "id": "99e0cad1",
   "metadata": {},
   "outputs": [],
   "source": [
    "# Criando um novo DataFrame excluindo as linhas \"Not available\".\n",
    "df_clean_2 = df_clean_1.loc[valid_pay_1_mask,:].copy()"
   ]
  },
  {
   "cell_type": "code",
   "execution_count": 36,
   "id": "65ebe73b",
   "metadata": {},
   "outputs": [
    {
     "data": {
      "text/plain": [
       "(25, 25)"
      ]
     },
     "execution_count": 36,
     "metadata": {},
     "output_type": "execute_result"
    }
   ],
   "source": [
    "# Examinando o novo DataFrame.\n",
    "df_clean_2.shape"
   ]
  },
  {
   "cell_type": "code",
   "execution_count": 37,
   "id": "3256e57e",
   "metadata": {},
   "outputs": [
    {
     "name": "stdout",
     "output_type": "stream",
     "text": [
      "<class 'pandas.core.frame.DataFrame'>\n",
      "Int64Index: 25 entries, 0 to 24\n",
      "Data columns (total 1 columns):\n",
      " #   Column  Non-Null Count  Dtype\n",
      "---  ------  --------------  -----\n",
      " 0   PAY_0   25 non-null     int64\n",
      "dtypes: int64(1)\n",
      "memory usage: 400.0 bytes\n"
     ]
    }
   ],
   "source": [
    "# Convertendo o tipo de dados da coluna \"PAY_1\".\n",
    "df_clean_2['PAY_0'] = df_clean_2['PAY_0'].astype('int64')\n",
    "\n",
    "# Verificando a conversão.\n",
    "df_clean_2[['PAY_0']].info()"
   ]
  },
  {
   "cell_type": "code",
   "execution_count": 38,
   "id": "1b3ed851",
   "metadata": {},
   "outputs": [
    {
     "data": {
      "text/plain": [
       "0.36"
      ]
     },
     "execution_count": 38,
     "metadata": {},
     "output_type": "execute_result"
    }
   ],
   "source": [
    "# Taxa de inadimplência.\n",
    "overall_default_rate = df_clean_2['default payment next month'].mean()\n",
    "overall_default_rate"
   ]
  },
  {
   "cell_type": "code",
   "execution_count": 39,
   "id": "d66704a2",
   "metadata": {},
   "outputs": [
    {
     "data": {
      "text/html": [
       "<div>\n",
       "<style scoped>\n",
       "    .dataframe tbody tr th:only-of-type {\n",
       "        vertical-align: middle;\n",
       "    }\n",
       "\n",
       "    .dataframe tbody tr th {\n",
       "        vertical-align: top;\n",
       "    }\n",
       "\n",
       "    .dataframe thead th {\n",
       "        text-align: right;\n",
       "    }\n",
       "</style>\n",
       "<table border=\"1\" class=\"dataframe\">\n",
       "  <thead>\n",
       "    <tr style=\"text-align: right;\">\n",
       "      <th></th>\n",
       "      <th>default payment next month</th>\n",
       "    </tr>\n",
       "    <tr>\n",
       "      <th>PAY_0</th>\n",
       "      <th></th>\n",
       "    </tr>\n",
       "  </thead>\n",
       "  <tbody>\n",
       "    <tr>\n",
       "      <th>-1</th>\n",
       "      <td>0.153846</td>\n",
       "    </tr>\n",
       "    <tr>\n",
       "      <th>1</th>\n",
       "      <td>0.666667</td>\n",
       "    </tr>\n",
       "    <tr>\n",
       "      <th>2</th>\n",
       "      <td>0.000000</td>\n",
       "    </tr>\n",
       "    <tr>\n",
       "      <th>3</th>\n",
       "      <td>1.000000</td>\n",
       "    </tr>\n",
       "    <tr>\n",
       "      <th>5</th>\n",
       "      <td>1.000000</td>\n",
       "    </tr>\n",
       "    <tr>\n",
       "      <th>6</th>\n",
       "      <td>0.500000</td>\n",
       "    </tr>\n",
       "  </tbody>\n",
       "</table>\n",
       "</div>"
      ],
      "text/plain": [
       "       default payment next month\n",
       "PAY_0                            \n",
       "-1                       0.153846\n",
       " 1                       0.666667\n",
       " 2                       0.000000\n",
       " 3                       1.000000\n",
       " 5                       1.000000\n",
       " 6                       0.500000"
      ]
     },
     "execution_count": 39,
     "metadata": {},
     "output_type": "execute_result"
    }
   ],
   "source": [
    "# Média da variável de resposta por classe de \"PAY_0\".\n",
    "group_by_pay_mean_y = df_clean_2.groupby('PAY_0').agg({'default payment next month':np.mean})\n",
    "group_by_pay_mean_y"
   ]
  },
  {
   "cell_type": "code",
   "execution_count": 42,
   "id": "05e45427",
   "metadata": {},
   "outputs": [
    {
     "data": {
      "image/png": "[encoded data removed]",
      "text/plain": [
       "<Figure size 576x360 with 1 Axes>"
      ]
     },
     "metadata": {
      "needs_background": "light"
     },
     "output_type": "display_data"
    }
   ],
   "source": [
    "# Taxa de Inadimplência por cada classe de \"PAY_0\".\n",
    "axes = plt.axes()\n",
    "axes.axhline(overall_default_rate, color='red')\n",
    "group_by_pay_mean_y.plot(marker='x', legend=False, ax=axes, figsize=(8,5))\n",
    "axes.set_title('Taxa de Inadimplência por cada classe de \"PAY_0\"', fontsize=15)\n",
    "axes.set_ylabel('Proporção de inadimplências de crédito')\n",
    "axes.legend(['Proporção Geral', 'Proporção por classe de PAY_0']);"
   ]
  },
  {
   "cell_type": "code",
   "execution_count": 43,
   "id": "8ad72d63",
   "metadata": {},
   "outputs": [
    {
     "data": {
      "text/plain": [
       "['PAY_0', 'PAY_2', 'PAY_3', 'PAY_4', 'PAY_5', 'PAY_6']"
      ]
     },
     "execution_count": 43,
     "metadata": {},
     "output_type": "execute_result"
    }
   ],
   "source": [
    "# Criando uma lista com as variáveis de status de pagamentos.\n",
    "pay_feats = ['PAY_0', 'PAY_2', 'PAY_3', 'PAY_4', 'PAY_5', 'PAY_6']\n",
    "pay_feats"
   ]
  },
  {
   "cell_type": "code",
   "execution_count": 44,
   "id": "2a6610f0",
   "metadata": {},
   "outputs": [
    {
     "data": {
      "text/html": [
       "<div>\n",
       "<style scoped>\n",
       "    .dataframe tbody tr th:only-of-type {\n",
       "        vertical-align: middle;\n",
       "    }\n",
       "\n",
       "    .dataframe tbody tr th {\n",
       "        vertical-align: top;\n",
       "    }\n",
       "\n",
       "    .dataframe thead th {\n",
       "        text-align: right;\n",
       "    }\n",
       "</style>\n",
       "<table border=\"1\" class=\"dataframe\">\n",
       "  <thead>\n",
       "    <tr style=\"text-align: right;\">\n",
       "      <th></th>\n",
       "      <th>PAY_0</th>\n",
       "      <th>PAY_2</th>\n",
       "      <th>PAY_3</th>\n",
       "      <th>PAY_4</th>\n",
       "      <th>PAY_5</th>\n",
       "      <th>PAY_6</th>\n",
       "    </tr>\n",
       "  </thead>\n",
       "  <tbody>\n",
       "    <tr>\n",
       "      <th>count</th>\n",
       "      <td>25.000000</td>\n",
       "      <td>25.000000</td>\n",
       "      <td>25.000000</td>\n",
       "      <td>25.000000</td>\n",
       "      <td>25.000000</td>\n",
       "      <td>25.000000</td>\n",
       "    </tr>\n",
       "    <tr>\n",
       "      <th>mean</th>\n",
       "      <td>0.880000</td>\n",
       "      <td>0.760000</td>\n",
       "      <td>1.280000</td>\n",
       "      <td>0.920000</td>\n",
       "      <td>-0.240000</td>\n",
       "      <td>0.280000</td>\n",
       "    </tr>\n",
       "    <tr>\n",
       "      <th>std</th>\n",
       "      <td>2.350886</td>\n",
       "      <td>2.350177</td>\n",
       "      <td>2.508652</td>\n",
       "      <td>2.767671</td>\n",
       "      <td>1.665333</td>\n",
       "      <td>2.072036</td>\n",
       "    </tr>\n",
       "    <tr>\n",
       "      <th>min</th>\n",
       "      <td>-1.000000</td>\n",
       "      <td>-1.000000</td>\n",
       "      <td>-1.000000</td>\n",
       "      <td>-1.000000</td>\n",
       "      <td>-1.000000</td>\n",
       "      <td>-1.000000</td>\n",
       "    </tr>\n",
       "    <tr>\n",
       "      <th>25%</th>\n",
       "      <td>-1.000000</td>\n",
       "      <td>-1.000000</td>\n",
       "      <td>-1.000000</td>\n",
       "      <td>-1.000000</td>\n",
       "      <td>-1.000000</td>\n",
       "      <td>-1.000000</td>\n",
       "    </tr>\n",
       "    <tr>\n",
       "      <th>50%</th>\n",
       "      <td>-1.000000</td>\n",
       "      <td>-1.000000</td>\n",
       "      <td>1.000000</td>\n",
       "      <td>-1.000000</td>\n",
       "      <td>-1.000000</td>\n",
       "      <td>-1.000000</td>\n",
       "    </tr>\n",
       "    <tr>\n",
       "      <th>75%</th>\n",
       "      <td>2.000000</td>\n",
       "      <td>2.000000</td>\n",
       "      <td>3.000000</td>\n",
       "      <td>3.000000</td>\n",
       "      <td>-1.000000</td>\n",
       "      <td>2.000000</td>\n",
       "    </tr>\n",
       "    <tr>\n",
       "      <th>max</th>\n",
       "      <td>6.000000</td>\n",
       "      <td>6.000000</td>\n",
       "      <td>6.000000</td>\n",
       "      <td>6.000000</td>\n",
       "      <td>5.000000</td>\n",
       "      <td>6.000000</td>\n",
       "    </tr>\n",
       "  </tbody>\n",
       "</table>\n",
       "</div>"
      ],
      "text/plain": [
       "           PAY_0      PAY_2      PAY_3      PAY_4      PAY_5      PAY_6\n",
       "count  25.000000  25.000000  25.000000  25.000000  25.000000  25.000000\n",
       "mean    0.880000   0.760000   1.280000   0.920000  -0.240000   0.280000\n",
       "std     2.350886   2.350177   2.508652   2.767671   1.665333   2.072036\n",
       "min    -1.000000  -1.000000  -1.000000  -1.000000  -1.000000  -1.000000\n",
       "25%    -1.000000  -1.000000  -1.000000  -1.000000  -1.000000  -1.000000\n",
       "50%    -1.000000  -1.000000   1.000000  -1.000000  -1.000000  -1.000000\n",
       "75%     2.000000   2.000000   3.000000   3.000000  -1.000000   2.000000\n",
       "max     6.000000   6.000000   6.000000   6.000000   5.000000   6.000000"
      ]
     },
     "execution_count": 44,
     "metadata": {},
     "output_type": "execute_result"
    }
   ],
   "source": [
    "# Estatísticas das variáveis.\n",
    "df_clean_2[pay_feats].describe()"
   ]
  },
  {
   "cell_type": "code",
   "execution_count": 45,
   "id": "aad3c065",
   "metadata": {},
   "outputs": [
    {
     "data": {
      "text/plain": [
       "-1    13\n",
       " 1     3\n",
       " 2     3\n",
       " 3     3\n",
       " 5     1\n",
       " 6     2\n",
       "Name: PAY_0, dtype: int64"
      ]
     },
     "execution_count": 45,
     "metadata": {},
     "output_type": "execute_result"
    }
   ],
   "source": [
    "# Contagem de valores da \"PAY_0\".\n",
    "df_clean_2[pay_feats[0]].value_counts().sort_index()"
   ]
  },
  {
   "cell_type": "code",
   "execution_count": 46,
   "id": "92ebeb1e",
   "metadata": {},
   "outputs": [
    {
     "data": {
      "image/png": "[encoded data removed]",
      "text/plain": [
       "<Figure size 576x360 with 1 Axes>"
      ]
     },
     "metadata": {
      "needs_background": "light"
     },
     "output_type": "display_data"
    }
   ],
   "source": [
    "# Histograma da variável \"PAY_0\".\n",
    "pay_1_bins = np.array(range(-2,10)) - 0.5\n",
    "df_clean_2[pay_feats[0]].hist(bins=pay_1_bins, figsize=(8,5))\n",
    "plt.title('Distribuição de \"PAY_0\"', fontsize=15)\n",
    "plt.xlabel('PAY_0')\n",
    "plt.ylabel('Número de Contas');"
   ]
  },
  {
   "cell_type": "code",
   "execution_count": 50,
   "id": "24c5e387",
   "metadata": {},
   "outputs": [
    {
     "data": {
      "image/png": "[encoded data removed]",
      "text/plain": [
       "<Figure size 1080x720 with 6 Axes>"
      ]
     },
     "metadata": {
      "needs_background": "light"
     },
     "output_type": "display_data"
    }
   ],
   "source": [
    "# Plotagens das variáveis.\n",
    "df_clean_2[pay_feats].hist(bins=pay_1_bins, layout=(2,3), figsize=(15,10));"
   ]
  },
  {
   "cell_type": "code",
   "execution_count": 51,
   "id": "bc3e17bf",
   "metadata": {},
   "outputs": [
    {
     "data": {
      "text/html": [
       "<div>\n",
       "<style scoped>\n",
       "    .dataframe tbody tr th:only-of-type {\n",
       "        vertical-align: middle;\n",
       "    }\n",
       "\n",
       "    .dataframe tbody tr th {\n",
       "        vertical-align: top;\n",
       "    }\n",
       "\n",
       "    .dataframe thead th {\n",
       "        text-align: right;\n",
       "    }\n",
       "</style>\n",
       "<table border=\"1\" class=\"dataframe\">\n",
       "  <thead>\n",
       "    <tr style=\"text-align: right;\">\n",
       "      <th></th>\n",
       "      <th>PAY_2</th>\n",
       "      <th>PAY_3</th>\n",
       "    </tr>\n",
       "  </thead>\n",
       "  <tbody>\n",
       "    <tr>\n",
       "      <th>3</th>\n",
       "      <td>2.0</td>\n",
       "      <td>3.0</td>\n",
       "    </tr>\n",
       "    <tr>\n",
       "      <th>15</th>\n",
       "      <td>2.0</td>\n",
       "      <td>5.0</td>\n",
       "    </tr>\n",
       "    <tr>\n",
       "      <th>18</th>\n",
       "      <td>2.0</td>\n",
       "      <td>1.0</td>\n",
       "    </tr>\n",
       "  </tbody>\n",
       "</table>\n",
       "</div>"
      ],
      "text/plain": [
       "    PAY_2  PAY_3\n",
       "3     2.0    3.0\n",
       "15    2.0    5.0\n",
       "18    2.0    1.0"
      ]
     },
     "execution_count": 51,
     "metadata": {},
     "output_type": "execute_result"
    }
   ],
   "source": [
    "# Comparando as variáveis.\n",
    "df_clean_2.loc[df_clean_2['PAY_2']==2, ['PAY_2', 'PAY_3']].head()"
   ]
  },
  {
   "cell_type": "code",
   "execution_count": 53,
   "id": "aed48742",
   "metadata": {},
   "outputs": [],
   "source": [
    "# Lista com os nomes das variáveis.\n",
    "bill_feats = ['BILL_AMT1','BILL_AMT2','BILL_AMT3','BILL_AMT4','BILL_AMT5', 'BILL_AMT6']"
   ]
  },
  {
   "cell_type": "code",
   "execution_count": 54,
   "id": "fa868d6f",
   "metadata": {},
   "outputs": [
    {
     "data": {
      "text/html": [
       "<div>\n",
       "<style scoped>\n",
       "    .dataframe tbody tr th:only-of-type {\n",
       "        vertical-align: middle;\n",
       "    }\n",
       "\n",
       "    .dataframe tbody tr th {\n",
       "        vertical-align: top;\n",
       "    }\n",
       "\n",
       "    .dataframe thead th {\n",
       "        text-align: right;\n",
       "    }\n",
       "</style>\n",
       "<table border=\"1\" class=\"dataframe\">\n",
       "  <thead>\n",
       "    <tr style=\"text-align: right;\">\n",
       "      <th></th>\n",
       "      <th>BILL_AMT1</th>\n",
       "      <th>BILL_AMT2</th>\n",
       "      <th>BILL_AMT3</th>\n",
       "      <th>BILL_AMT4</th>\n",
       "      <th>BILL_AMT5</th>\n",
       "      <th>BILL_AMT6</th>\n",
       "    </tr>\n",
       "  </thead>\n",
       "  <tbody>\n",
       "    <tr>\n",
       "      <th>0</th>\n",
       "      <td>590.0</td>\n",
       "      <td>590.0</td>\n",
       "      <td>315.0</td>\n",
       "      <td>590.0</td>\n",
       "      <td>590.0</td>\n",
       "      <td>590.0</td>\n",
       "    </tr>\n",
       "    <tr>\n",
       "      <th>1</th>\n",
       "      <td>550.0</td>\n",
       "      <td>550.0</td>\n",
       "      <td>295.0</td>\n",
       "      <td>550.0</td>\n",
       "      <td>550.0</td>\n",
       "      <td>550.0</td>\n",
       "    </tr>\n",
       "    <tr>\n",
       "      <th>2</th>\n",
       "      <td>1100.0</td>\n",
       "      <td>1100.0</td>\n",
       "      <td>1100.0</td>\n",
       "      <td>1100.0</td>\n",
       "      <td>1100.0</td>\n",
       "      <td>1100.0</td>\n",
       "    </tr>\n",
       "    <tr>\n",
       "      <th>3</th>\n",
       "      <td>1140.0</td>\n",
       "      <td>1140.0</td>\n",
       "      <td>610.0</td>\n",
       "      <td>1140.0</td>\n",
       "      <td>1140.0</td>\n",
       "      <td>1140.0</td>\n",
       "    </tr>\n",
       "    <tr>\n",
       "      <th>4</th>\n",
       "      <td>550.0</td>\n",
       "      <td>550.0</td>\n",
       "      <td>295.0</td>\n",
       "      <td>550.0</td>\n",
       "      <td>550.0</td>\n",
       "      <td>550.0</td>\n",
       "    </tr>\n",
       "    <tr>\n",
       "      <th>5</th>\n",
       "      <td>550.0</td>\n",
       "      <td>550.0</td>\n",
       "      <td>295.0</td>\n",
       "      <td>550.0</td>\n",
       "      <td>550.0</td>\n",
       "      <td>550.0</td>\n",
       "    </tr>\n",
       "    <tr>\n",
       "      <th>6</th>\n",
       "      <td>1180.0</td>\n",
       "      <td>1180.0</td>\n",
       "      <td>630.0</td>\n",
       "      <td>1180.0</td>\n",
       "      <td>1360.0</td>\n",
       "      <td>500.0</td>\n",
       "    </tr>\n",
       "    <tr>\n",
       "      <th>7</th>\n",
       "      <td>920.0</td>\n",
       "      <td>920.0</td>\n",
       "      <td>920.0</td>\n",
       "      <td>920.0</td>\n",
       "      <td>920.0</td>\n",
       "      <td>1100.0</td>\n",
       "    </tr>\n",
       "    <tr>\n",
       "      <th>8</th>\n",
       "      <td>550.0</td>\n",
       "      <td>550.0</td>\n",
       "      <td>295.0</td>\n",
       "      <td>550.0</td>\n",
       "      <td>550.0</td>\n",
       "      <td>550.0</td>\n",
       "    </tr>\n",
       "    <tr>\n",
       "      <th>9</th>\n",
       "      <td>550.0</td>\n",
       "      <td>550.0</td>\n",
       "      <td>295.0</td>\n",
       "      <td>550.0</td>\n",
       "      <td>550.0</td>\n",
       "      <td>550.0</td>\n",
       "    </tr>\n",
       "    <tr>\n",
       "      <th>10</th>\n",
       "      <td>1650.0</td>\n",
       "      <td>1650.0</td>\n",
       "      <td>885.0</td>\n",
       "      <td>1650.0</td>\n",
       "      <td>1650.0</td>\n",
       "      <td>1650.0</td>\n",
       "    </tr>\n",
       "    <tr>\n",
       "      <th>11</th>\n",
       "      <td>1180.0</td>\n",
       "      <td>1180.0</td>\n",
       "      <td>630.0</td>\n",
       "      <td>1180.0</td>\n",
       "      <td>1180.0</td>\n",
       "      <td>1180.0</td>\n",
       "    </tr>\n",
       "    <tr>\n",
       "      <th>12</th>\n",
       "      <td>550.0</td>\n",
       "      <td>545.0</td>\n",
       "      <td>295.0</td>\n",
       "      <td>550.0</td>\n",
       "      <td>550.0</td>\n",
       "      <td>550.0</td>\n",
       "    </tr>\n",
       "    <tr>\n",
       "      <th>13</th>\n",
       "      <td>1100.0</td>\n",
       "      <td>1100.0</td>\n",
       "      <td>590.0</td>\n",
       "      <td>1100.0</td>\n",
       "      <td>1100.0</td>\n",
       "      <td>1100.0</td>\n",
       "    </tr>\n",
       "    <tr>\n",
       "      <th>14</th>\n",
       "      <td>2280.0</td>\n",
       "      <td>2280.0</td>\n",
       "      <td>1220.0</td>\n",
       "      <td>2280.0</td>\n",
       "      <td>2280.0</td>\n",
       "      <td>2280.0</td>\n",
       "    </tr>\n",
       "    <tr>\n",
       "      <th>15</th>\n",
       "      <td>1100.0</td>\n",
       "      <td>1100.0</td>\n",
       "      <td>590.0</td>\n",
       "      <td>1100.0</td>\n",
       "      <td>1100.0</td>\n",
       "      <td>1100.0</td>\n",
       "    </tr>\n",
       "    <tr>\n",
       "      <th>16</th>\n",
       "      <td>1420.0</td>\n",
       "      <td>1420.0</td>\n",
       "      <td>905.0</td>\n",
       "      <td>1420.0</td>\n",
       "      <td>1420.0</td>\n",
       "      <td>1420.0</td>\n",
       "    </tr>\n",
       "    <tr>\n",
       "      <th>17</th>\n",
       "      <td>1140.0</td>\n",
       "      <td>1140.0</td>\n",
       "      <td>610.0</td>\n",
       "      <td>1140.0</td>\n",
       "      <td>1140.0</td>\n",
       "      <td>1140.0</td>\n",
       "    </tr>\n",
       "    <tr>\n",
       "      <th>18</th>\n",
       "      <td>1690.0</td>\n",
       "      <td>1690.0</td>\n",
       "      <td>1690.0</td>\n",
       "      <td>1690.0</td>\n",
       "      <td>1690.0</td>\n",
       "      <td>1690.0</td>\n",
       "    </tr>\n",
       "    <tr>\n",
       "      <th>19</th>\n",
       "      <td>590.0</td>\n",
       "      <td>590.0</td>\n",
       "      <td>315.0</td>\n",
       "      <td>590.0</td>\n",
       "      <td>590.0</td>\n",
       "      <td>590.0</td>\n",
       "    </tr>\n",
       "    <tr>\n",
       "      <th>20</th>\n",
       "      <td>590.0</td>\n",
       "      <td>590.0</td>\n",
       "      <td>315.0</td>\n",
       "      <td>590.0</td>\n",
       "      <td>590.0</td>\n",
       "      <td>590.0</td>\n",
       "    </tr>\n",
       "    <tr>\n",
       "      <th>21</th>\n",
       "      <td>590.0</td>\n",
       "      <td>590.0</td>\n",
       "      <td>315.0</td>\n",
       "      <td>590.0</td>\n",
       "      <td>550.0</td>\n",
       "      <td>550.0</td>\n",
       "    </tr>\n",
       "    <tr>\n",
       "      <th>22</th>\n",
       "      <td>1180.0</td>\n",
       "      <td>1180.0</td>\n",
       "      <td>630.0</td>\n",
       "      <td>1180.0</td>\n",
       "      <td>1180.0</td>\n",
       "      <td>1180.0</td>\n",
       "    </tr>\n",
       "    <tr>\n",
       "      <th>23</th>\n",
       "      <td>1140.0</td>\n",
       "      <td>1140.0</td>\n",
       "      <td>1140.0</td>\n",
       "      <td>1140.0</td>\n",
       "      <td>1140.0</td>\n",
       "      <td>1140.0</td>\n",
       "    </tr>\n",
       "    <tr>\n",
       "      <th>24</th>\n",
       "      <td>1100.0</td>\n",
       "      <td>1100.0</td>\n",
       "      <td>590.0</td>\n",
       "      <td>1100.0</td>\n",
       "      <td>1100.0</td>\n",
       "      <td>1100.0</td>\n",
       "    </tr>\n",
       "  </tbody>\n",
       "</table>\n",
       "</div>"
      ],
      "text/plain": [
       "    BILL_AMT1  BILL_AMT2  BILL_AMT3  BILL_AMT4  BILL_AMT5  BILL_AMT6\n",
       "0       590.0      590.0      315.0      590.0      590.0      590.0\n",
       "1       550.0      550.0      295.0      550.0      550.0      550.0\n",
       "2      1100.0     1100.0     1100.0     1100.0     1100.0     1100.0\n",
       "3      1140.0     1140.0      610.0     1140.0     1140.0     1140.0\n",
       "4       550.0      550.0      295.0      550.0      550.0      550.0\n",
       "5       550.0      550.0      295.0      550.0      550.0      550.0\n",
       "6      1180.0     1180.0      630.0     1180.0     1360.0      500.0\n",
       "7       920.0      920.0      920.0      920.0      920.0     1100.0\n",
       "8       550.0      550.0      295.0      550.0      550.0      550.0\n",
       "9       550.0      550.0      295.0      550.0      550.0      550.0\n",
       "10     1650.0     1650.0      885.0     1650.0     1650.0     1650.0\n",
       "11     1180.0     1180.0      630.0     1180.0     1180.0     1180.0\n",
       "12      550.0      545.0      295.0      550.0      550.0      550.0\n",
       "13     1100.0     1100.0      590.0     1100.0     1100.0     1100.0\n",
       "14     2280.0     2280.0     1220.0     2280.0     2280.0     2280.0\n",
       "15     1100.0     1100.0      590.0     1100.0     1100.0     1100.0\n",
       "16     1420.0     1420.0      905.0     1420.0     1420.0     1420.0\n",
       "17     1140.0     1140.0      610.0     1140.0     1140.0     1140.0\n",
       "18     1690.0     1690.0     1690.0     1690.0     1690.0     1690.0\n",
       "19      590.0      590.0      315.0      590.0      590.0      590.0\n",
       "20      590.0      590.0      315.0      590.0      590.0      590.0\n",
       "21      590.0      590.0      315.0      590.0      550.0      550.0\n",
       "22     1180.0     1180.0      630.0     1180.0     1180.0     1180.0\n",
       "23     1140.0     1140.0     1140.0     1140.0     1140.0     1140.0\n",
       "24     1100.0     1100.0      590.0     1100.0     1100.0     1100.0"
      ]
     },
     "execution_count": 54,
     "metadata": {},
     "output_type": "execute_result"
    }
   ],
   "source": [
    "# Visualizando a conversão.\n",
    "df_clean_2[['BILL_AMT1','BILL_AMT2','BILL_AMT3','BILL_AMT4','BILL_AMT5', 'BILL_AMT6']]"
   ]
  },
  {
   "cell_type": "code",
   "execution_count": 55,
   "id": "257e943a",
   "metadata": {},
   "outputs": [],
   "source": [
    "# Convertendo o tipo dos dados da variável.\n",
    "df_clean_2[bill_feats] = df_clean_2[bill_feats].astype('int64')"
   ]
  },
  {
   "cell_type": "code",
   "execution_count": 56,
   "id": "d5d26c62",
   "metadata": {},
   "outputs": [
    {
     "data": {
      "text/html": [
       "<div>\n",
       "<style scoped>\n",
       "    .dataframe tbody tr th:only-of-type {\n",
       "        vertical-align: middle;\n",
       "    }\n",
       "\n",
       "    .dataframe tbody tr th {\n",
       "        vertical-align: top;\n",
       "    }\n",
       "\n",
       "    .dataframe thead th {\n",
       "        text-align: right;\n",
       "    }\n",
       "</style>\n",
       "<table border=\"1\" class=\"dataframe\">\n",
       "  <thead>\n",
       "    <tr style=\"text-align: right;\">\n",
       "      <th></th>\n",
       "      <th>BILL_AMT1</th>\n",
       "      <th>BILL_AMT2</th>\n",
       "      <th>BILL_AMT3</th>\n",
       "      <th>BILL_AMT4</th>\n",
       "      <th>BILL_AMT5</th>\n",
       "      <th>BILL_AMT6</th>\n",
       "    </tr>\n",
       "  </thead>\n",
       "  <tbody>\n",
       "    <tr>\n",
       "      <th>count</th>\n",
       "      <td>25.000000</td>\n",
       "      <td>25.000000</td>\n",
       "      <td>25.000000</td>\n",
       "      <td>25.000000</td>\n",
       "      <td>25.000000</td>\n",
       "      <td>25.000000</td>\n",
       "    </tr>\n",
       "    <tr>\n",
       "      <th>mean</th>\n",
       "      <td>999.200000</td>\n",
       "      <td>999.000000</td>\n",
       "      <td>630.800000</td>\n",
       "      <td>999.200000</td>\n",
       "      <td>1004.800000</td>\n",
       "      <td>977.600000</td>\n",
       "    </tr>\n",
       "    <tr>\n",
       "      <th>std</th>\n",
       "      <td>447.361897</td>\n",
       "      <td>447.572154</td>\n",
       "      <td>368.175909</td>\n",
       "      <td>447.361897</td>\n",
       "      <td>453.423275</td>\n",
       "      <td>458.541892</td>\n",
       "    </tr>\n",
       "    <tr>\n",
       "      <th>min</th>\n",
       "      <td>550.000000</td>\n",
       "      <td>545.000000</td>\n",
       "      <td>295.000000</td>\n",
       "      <td>550.000000</td>\n",
       "      <td>550.000000</td>\n",
       "      <td>500.000000</td>\n",
       "    </tr>\n",
       "    <tr>\n",
       "      <th>25%</th>\n",
       "      <td>590.000000</td>\n",
       "      <td>590.000000</td>\n",
       "      <td>315.000000</td>\n",
       "      <td>590.000000</td>\n",
       "      <td>550.000000</td>\n",
       "      <td>550.000000</td>\n",
       "    </tr>\n",
       "    <tr>\n",
       "      <th>50%</th>\n",
       "      <td>1100.000000</td>\n",
       "      <td>1100.000000</td>\n",
       "      <td>590.000000</td>\n",
       "      <td>1100.000000</td>\n",
       "      <td>1100.000000</td>\n",
       "      <td>1100.000000</td>\n",
       "    </tr>\n",
       "    <tr>\n",
       "      <th>75%</th>\n",
       "      <td>1180.000000</td>\n",
       "      <td>1180.000000</td>\n",
       "      <td>885.000000</td>\n",
       "      <td>1180.000000</td>\n",
       "      <td>1180.000000</td>\n",
       "      <td>1140.000000</td>\n",
       "    </tr>\n",
       "    <tr>\n",
       "      <th>max</th>\n",
       "      <td>2280.000000</td>\n",
       "      <td>2280.000000</td>\n",
       "      <td>1690.000000</td>\n",
       "      <td>2280.000000</td>\n",
       "      <td>2280.000000</td>\n",
       "      <td>2280.000000</td>\n",
       "    </tr>\n",
       "  </tbody>\n",
       "</table>\n",
       "</div>"
      ],
      "text/plain": [
       "         BILL_AMT1    BILL_AMT2    BILL_AMT3    BILL_AMT4    BILL_AMT5  \\\n",
       "count    25.000000    25.000000    25.000000    25.000000    25.000000   \n",
       "mean    999.200000   999.000000   630.800000   999.200000  1004.800000   \n",
       "std     447.361897   447.572154   368.175909   447.361897   453.423275   \n",
       "min     550.000000   545.000000   295.000000   550.000000   550.000000   \n",
       "25%     590.000000   590.000000   315.000000   590.000000   550.000000   \n",
       "50%    1100.000000  1100.000000   590.000000  1100.000000  1100.000000   \n",
       "75%    1180.000000  1180.000000   885.000000  1180.000000  1180.000000   \n",
       "max    2280.000000  2280.000000  1690.000000  2280.000000  2280.000000   \n",
       "\n",
       "         BILL_AMT6  \n",
       "count    25.000000  \n",
       "mean    977.600000  \n",
       "std     458.541892  \n",
       "min     500.000000  \n",
       "25%     550.000000  \n",
       "50%    1100.000000  \n",
       "75%    1140.000000  \n",
       "max    2280.000000  "
      ]
     },
     "execution_count": 56,
     "metadata": {},
     "output_type": "execute_result"
    }
   ],
   "source": [
    "# Estatísticas das variáveis.\n",
    "df_clean_2[bill_feats].describe()"
   ]
  },
  {
   "cell_type": "code",
   "execution_count": 57,
   "id": "786ee90d",
   "metadata": {},
   "outputs": [
    {
     "data": {
      "image/png": "[encoded data removed]",
      "text/plain": [
       "<Figure size 1080x720 with 6 Axes>"
      ]
     },
     "metadata": {
      "needs_background": "light"
     },
     "output_type": "display_data"
    }
   ],
   "source": [
    "# Plots das variáveis.\n",
    "df_clean_2[bill_feats].hist(bins=20, layout=(2,3), figsize=(15,10));"
   ]
  },
  {
   "cell_type": "code",
   "execution_count": 58,
   "id": "da5b3455",
   "metadata": {},
   "outputs": [
    {
     "data": {
      "text/plain": [
       "0.36"
      ]
     },
     "execution_count": 58,
     "metadata": {},
     "output_type": "execute_result"
    }
   ],
   "source": [
    "# Calculando a média da variável de resposta.\n",
    "df_clean_2['default payment next month'].mean()"
   ]
  },
  {
   "cell_type": "code",
   "execution_count": 59,
   "id": "c546aebd",
   "metadata": {},
   "outputs": [
    {
     "data": {
      "text/plain": [
       "default payment next month\n",
       "0.0    16\n",
       "1.0     9\n",
       "Name: ID, dtype: int64"
      ]
     },
     "execution_count": 59,
     "metadata": {},
     "output_type": "execute_result"
    }
   ],
   "source": [
    "# Verificando o número de amostras em cada classe.\n",
    "df_clean_2.groupby('default payment next month') ['ID'].count()"
   ]
  },
  {
   "cell_type": "code",
   "execution_count": 60,
   "id": "fa961aa5",
   "metadata": {},
   "outputs": [
    {
     "data": {
      "text/plain": [
       "['ID',\n",
       " 'LIMIT_BAL',\n",
       " 'SEX',\n",
       " 'EDUCATION',\n",
       " 'MARRIAGE',\n",
       " 'AGE',\n",
       " 'PAY_0',\n",
       " 'PAY_2',\n",
       " 'PAY_3',\n",
       " 'PAY_4',\n",
       " 'PAY_5',\n",
       " 'PAY_6',\n",
       " 'BILL_AMT1',\n",
       " 'BILL_AMT2',\n",
       " 'BILL_AMT3',\n",
       " 'BILL_AMT4',\n",
       " 'BILL_AMT5',\n",
       " 'BILL_AMT6',\n",
       " 'PAY_AMT1',\n",
       " 'PAY_AMT2',\n",
       " 'PAY_AMT3',\n",
       " 'PAY_AMT4',\n",
       " 'PAY_AMT5',\n",
       " 'PAY_AMT6',\n",
       " 'default payment next month']"
      ]
     },
     "execution_count": 60,
     "metadata": {},
     "output_type": "execute_result"
    }
   ],
   "source": [
    "# Criando uma lista com todas as colunas do DataFrame.\n",
    "features_response = df_clean_2.columns.tolist()\n",
    "features_response"
   ]
  },
  {
   "cell_type": "code",
   "execution_count": 61,
   "id": "2d421309",
   "metadata": {},
   "outputs": [],
   "source": [
    "# Variáveis descartadas.\n",
    "items_to_remove = ['ID', 'PAY_2', 'PAY_3', 'PAY_4', 'PAY_5', 'PAY_6']"
   ]
  },
  {
   "cell_type": "code",
   "execution_count": 62,
   "id": "66035b5d",
   "metadata": {},
   "outputs": [
    {
     "data": {
      "text/plain": [
       "['LIMIT_BAL',\n",
       " 'SEX',\n",
       " 'EDUCATION',\n",
       " 'MARRIAGE',\n",
       " 'AGE',\n",
       " 'PAY_0',\n",
       " 'BILL_AMT1',\n",
       " 'BILL_AMT2',\n",
       " 'BILL_AMT3',\n",
       " 'BILL_AMT4',\n",
       " 'BILL_AMT5',\n",
       " 'BILL_AMT6',\n",
       " 'PAY_AMT1',\n",
       " 'PAY_AMT2',\n",
       " 'PAY_AMT3',\n",
       " 'PAY_AMT4',\n",
       " 'PAY_AMT5',\n",
       " 'PAY_AMT6',\n",
       " 'default payment next month']"
      ]
     },
     "execution_count": 62,
     "metadata": {},
     "output_type": "execute_result"
    }
   ],
   "source": [
    "# Lista apenas com as variáveis desejáveis.\n",
    "features_response = [item for item in features_response if item not in items_to_remove]\n",
    "features_response"
   ]
  },
  {
   "cell_type": "code",
   "execution_count": 63,
   "id": "04eaf9b6",
   "metadata": {},
   "outputs": [
    {
     "name": "stdout",
     "output_type": "stream",
     "text": [
      "<class 'pandas.core.frame.DataFrame'>\n",
      "Int64Index: 25 entries, 0 to 24\n",
      "Data columns (total 25 columns):\n",
      " #   Column                      Non-Null Count  Dtype  \n",
      "---  ------                      --------------  -----  \n",
      " 0   ID                          25 non-null     float64\n",
      " 1   LIMIT_BAL                   0 non-null      float64\n",
      " 2   SEX                         25 non-null     float64\n",
      " 3   EDUCATION                   25 non-null     float64\n",
      " 4   MARRIAGE                    25 non-null     float64\n",
      " 5   AGE                         25 non-null     float64\n",
      " 6   PAY_0                       25 non-null     int64  \n",
      " 7   PAY_2                       25 non-null     float64\n",
      " 8   PAY_3                       25 non-null     float64\n",
      " 9   PAY_4                       25 non-null     float64\n",
      " 10  PAY_5                       25 non-null     float64\n",
      " 11  PAY_6                       25 non-null     float64\n",
      " 12  BILL_AMT1                   25 non-null     int64  \n",
      " 13  BILL_AMT2                   25 non-null     int64  \n",
      " 14  BILL_AMT3                   25 non-null     int64  \n",
      " 15  BILL_AMT4                   25 non-null     int64  \n",
      " 16  BILL_AMT5                   25 non-null     int64  \n",
      " 17  BILL_AMT6                   25 non-null     int64  \n",
      " 18  PAY_AMT1                    25 non-null     float64\n",
      " 19  PAY_AMT2                    25 non-null     float64\n",
      " 20  PAY_AMT3                    25 non-null     float64\n",
      " 21  PAY_AMT4                    25 non-null     float64\n",
      " 22  PAY_AMT5                    25 non-null     float64\n",
      " 23  PAY_AMT6                    25 non-null     float64\n",
      " 24  default payment next month  25 non-null     float64\n",
      "dtypes: float64(18), int64(7)\n",
      "memory usage: 5.1 KB\n"
     ]
    }
   ],
   "source": [
    "# Visão geral das variáveis.\n",
    "df_clean_2.info()"
   ]
  },
  {
   "cell_type": "code",
   "execution_count": 64,
   "id": "c13b9ae8",
   "metadata": {},
   "outputs": [],
   "source": [
    "# Gravando o DataFrame em um arquivo CSV.\n",
    "df_clean_2.to_csv('df', index=False)"
   ]
  },
  {
   "cell_type": "code",
   "execution_count": 65,
   "id": "f2fbd961",
   "metadata": {},
   "outputs": [],
   "source": [
    "# Carregando o dataset com os dados tratados.\n",
    "df = pd.read_csv('df')"
   ]
  },
  {
   "cell_type": "code",
   "execution_count": 66,
   "id": "b9d8df30",
   "metadata": {},
   "outputs": [],
   "source": [
    "# Correlação das variáveis.\n",
    "corr = df[features_response].corr()"
   ]
  },
  {
   "cell_type": "code",
   "execution_count": 69,
   "id": "8b316a73",
   "metadata": {
    "scrolled": true
   },
   "outputs": [
    {
     "data": {
      "image/png": "[encoded data removed]",
      "text/plain": [
       "<Figure size 1152x576 with 2 Axes>"
      ]
     },
     "metadata": {
      "needs_background": "light"
     },
     "output_type": "display_data"
    }
   ],
   "source": [
    "# Matriz de correlação.\n",
    "plt.subplots(figsize=(16,8))\n",
    "plt.title('Matriz de Correlação', fontsize=15)\n",
    "sns.heatmap(corr, annot=True)\n",
    "plt.show()"
   ]
  },
  {
   "cell_type": "code",
   "execution_count": 48,
   "id": "d97bd300",
   "metadata": {},
   "outputs": [
    {
     "data": {
      "text/plain": [
       "ID                             float64\n",
       "LIMIT_BAL                      float64\n",
       "SEX                           category\n",
       "EDUCATION                     category\n",
       "MARRIAGE                      category\n",
       "AGE                            float64\n",
       "PAY_0                          float64\n",
       "PAY_2                          float64\n",
       "PAY_3                          float64\n",
       "PAY_4                          float64\n",
       "PAY_5                          float64\n",
       "PAY_6                          float64\n",
       "BILL_AMT1                      float64\n",
       "BILL_AMT2                      float64\n",
       "BILL_AMT3                      float64\n",
       "BILL_AMT4                      float64\n",
       "BILL_AMT5                      float64\n",
       "BILL_AMT6                      float64\n",
       "PAY_AMT1                       float64\n",
       "PAY_AMT2                       float64\n",
       "PAY_AMT3                       float64\n",
       "PAY_AMT4                       float64\n",
       "PAY_AMT5                       float64\n",
       "PAY_AMT6                       float64\n",
       "default payment next month     float64\n",
       "dtype: object"
      ]
     },
     "execution_count": 48,
     "metadata": {},
     "output_type": "execute_result"
    }
   ],
   "source": [
    "# Verificando os tipos de dados das variáveis.\n",
    "df.dtypes"
   ]
  },
  {
   "cell_type": "code",
   "execution_count": 70,
   "id": "d3fb6518",
   "metadata": {},
   "outputs": [],
   "source": [
    "# Convertendo as variáveis para categóricas.\n",
    "df.SEX = df.SEX.astype(\"category\")\n",
    "df.EDUCATION = df.EDUCATION.astype(\"category\")\n",
    "df.MARRIAGE = df.MARRIAGE.astype(\"category\")"
   ]
  },
  {
   "cell_type": "code",
   "execution_count": 71,
   "id": "d1decb2c",
   "metadata": {},
   "outputs": [
    {
     "data": {
      "text/plain": [
       "ID                             float64\n",
       "LIMIT_BAL                      float64\n",
       "SEX                           category\n",
       "EDUCATION                     category\n",
       "MARRIAGE                      category\n",
       "AGE                            float64\n",
       "PAY_0                            int64\n",
       "PAY_2                          float64\n",
       "PAY_3                          float64\n",
       "PAY_4                          float64\n",
       "PAY_5                          float64\n",
       "PAY_6                          float64\n",
       "BILL_AMT1                        int64\n",
       "BILL_AMT2                        int64\n",
       "BILL_AMT3                        int64\n",
       "BILL_AMT4                        int64\n",
       "BILL_AMT5                        int64\n",
       "BILL_AMT6                        int64\n",
       "PAY_AMT1                       float64\n",
       "PAY_AMT2                       float64\n",
       "PAY_AMT3                       float64\n",
       "PAY_AMT4                       float64\n",
       "PAY_AMT5                       float64\n",
       "PAY_AMT6                       float64\n",
       "default payment next month     float64\n",
       "dtype: object"
      ]
     },
     "execution_count": 71,
     "metadata": {},
     "output_type": "execute_result"
    }
   ],
   "source": [
    "# Verificando a conversão.\n",
    "df.dtypes"
   ]
  },
  {
   "cell_type": "code",
   "execution_count": 72,
   "id": "a9a79010",
   "metadata": {},
   "outputs": [
    {
     "data": {
      "text/plain": [
       "0.0    16\n",
       "1.0     9\n",
       "Name: default payment next month, dtype: int64"
      ]
     },
     "execution_count": 72,
     "metadata": {},
     "output_type": "execute_result"
    }
   ],
   "source": [
    "# Verificando os dados da variável de resposta.\n",
    "df['default payment next month'].value_counts()"
   ]
  },
  {
   "cell_type": "code",
   "execution_count": 73,
   "id": "e9e6b115",
   "metadata": {},
   "outputs": [
    {
     "name": "stdout",
     "output_type": "stream",
     "text": [
      "(25, 18) (25,)\n"
     ]
    }
   ],
   "source": [
    "# Separando as variáveis preditoras e a variável de resposta em arrays.\n",
    "x = df[features_response].iloc[:,:-1].values\n",
    "y = df[features_response].iloc[:,-1].values\n",
    "print(x.shape, y.shape)"
   ]
  }
 ],
 "metadata": {
  "kernelspec": {
   "display_name": "Python 3 (ipykernel)",
   "language": "python",
   "name": "python3"
  },
  "language_info": {
   "codemirror_mode": {
    "name": "ipython",
    "version": 3
   },
   "file_extension": ".py",
   "mimetype": "text/x-python",
   "name": "python",
   "nbconvert_exporter": "python",
   "pygments_lexer": "ipython3",
   "version": "3.9.7"
  }
 },
 "nbformat": 4,
 "nbformat_minor": 5
}
